{
 "cells": [
  {
   "cell_type": "markdown",
   "metadata": {},
   "source": [
    "Welcome to the first Hands On linear regression. In this exercise , you will try out simple linaer regression using stats model that you have learnt in the course. We have created this Python Notebook with all the necessary things needed for completing this exercise. You have to write your code in between the are mentioned\n",
    "### Start Code\n",
    "Your Code here\n",
    "### End Code\n",
    "\n",
    "To run the code in each cell click on the cell and press **shift + enter** "
   ]
  },
  {
   "cell_type": "markdown",
   "metadata": {},
   "source": [
    "In this hands on we are using boston housing price dataset.\n",
    "The data importing part has been done for you.\n",
    "Run the below cell to import the data and view first five rows of dataset "
   ]
  },
  {
   "cell_type": "code",
   "execution_count": null,
   "metadata": {},
   "outputs": [],
   "source": [
    "from sklearn.datasets import load_boston\n",
    "import pandas as pd\n",
    "boston = load_boston()\n",
    "dataset = pd.DataFrame(data=boston.data, columns=boston.feature_names)\n",
    "dataset['target'] = boston.target\n",
    "print(dataset.head())"
   ]
  },
  {
   "cell_type": "markdown",
   "metadata": {},
   "source": [
    "- From the above output you can see the various attributes of the dataset.\n",
    "- The 'target' column has the dependent values(housing prices) and rest of the colums are the independent values that influence the target values\n",
    "- Lets find the relation between 'housing price' and 'average number of rooms per dwelling' using stats model\n",
    "- Assign the values of column \"RM\"(average number of rooms per dwelling) to variable X\n",
    "- similerly assign the values of 'target'(housing price) column to variable Y\n",
    "- sample code: values = data_frame['attribute_name']"
   ]
  },
  {
   "cell_type": "code",
   "execution_count": 18,
   "metadata": {
    "collapsed": true
   },
   "outputs": [],
   "source": [
    "###Start code here\n",
    "X = \n",
    "Y = \n",
    "###End code(approx 2 lines)"
   ]
  },
  {
   "cell_type": "markdown",
   "metadata": {},
   "source": [
    "- import statsmodel.api as sm"
   ]
  },
  {
   "cell_type": "code",
   "execution_count": 31,
   "metadata": {
    "collapsed": true
   },
   "outputs": [],
   "source": [
    "###Start code here\n",
    "\n",
    "###End code(approx 1 line)"
   ]
  },
  {
   "cell_type": "markdown",
   "metadata": {},
   "source": [
    "- initialise the OLS model by passing target(Y) and attribute(X).Assign the model to variable 'statsModel'\n",
    "- fit the model and assign it to variable 'fittedModel, make sure you add constant term to input X'\n",
    "- sample code for initialization: sm.OLS(target, attribute)"
   ]
  },
  {
   "cell_type": "code",
   "execution_count": 32,
   "metadata": {
    "collapsed": true
   },
   "outputs": [],
   "source": [
    "###Start code here\n",
    "\n",
    "\n",
    "###End code(approx 2 lines)"
   ]
  },
  {
   "cell_type": "markdown",
   "metadata": {},
   "source": [
    "- print the summary of fittedModel using the summary() function"
   ]
  },
  {
   "cell_type": "code",
   "execution_count": null,
   "metadata": {},
   "outputs": [],
   "source": [
    "###Start code here\n",
    "\n",
    "###End code(approx 1 line)"
   ]
  },
  {
   "cell_type": "markdown",
   "metadata": {},
   "source": [
    "- from the summary report note down the R-squared value and assign it to variable 'r_squared' in the below cell"
   ]
  },
  {
   "cell_type": "code",
   "execution_count": 35,
   "metadata": {
    "collapsed": true
   },
   "outputs": [],
   "source": [
    "###Start code here\n",
    "r_squared = \n",
    "###End code(approx 1 line)\n",
    "with open(\"output.txt\", \"w\") as text_file:\n",
    "  text_file.write(\"rsquared= %f\\n\" % r_squared)"
   ]
  }
 ],
 "metadata": {
  "kernelspec": {
   "display_name": "Python 3",
   "language": "python",
   "name": "python3"
  },
  "language_info": {
   "codemirror_mode": {
    "name": "ipython",
    "version": 3
   },
   "file_extension": ".py",
   "mimetype": "text/x-python",
   "name": "python",
   "nbconvert_exporter": "python",
   "pygments_lexer": "ipython3",
   "version": "3.6.3"
  }
 },
 "nbformat": 4,
 "nbformat_minor": 2
}
