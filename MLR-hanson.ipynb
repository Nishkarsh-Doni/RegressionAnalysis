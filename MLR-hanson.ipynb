{
 "cells": [
  {
   "cell_type": "markdown",
   "metadata": {},
   "source": [
    "Welcome to the second Hands On linear regression. In this exercise , you will try out multi  linaer regression using stats model that you have learnt in the course. We have created this Python Notebook with all the necessary things needed for completing this exercise. You have to write your code in between the are mentioned\n",
    "### Start Code\n",
    "Your Code here\n",
    "### End Code\n",
    "\n",
    "To run the code in each cell click on the cell and press **shift + enter** "
   ]
  },
  {
   "cell_type": "code",
   "execution_count": null,
   "metadata": {},
   "outputs": [],
   "source": [
    "from sklearn.datasets import load_boston\n",
    "import pandas as pd\n",
    "boston = load_boston()\n",
    "dataset = pd.DataFrame(data=boston.data, columns=boston.feature_names)\n",
    "dataset['target'] = boston.target\n",
    "print(dataset.head())"
   ]
  },
  {
   "cell_type": "markdown",
   "metadata": {},
   "source": [
    "- create a datframe named as 'X' such that it includes all the feature columns and drop the target column.\n",
    "- assign the 'target' columns to variiable Y"
   ]
  },
  {
   "cell_type": "code",
   "execution_count": 22,
   "metadata": {
    "collapsed": true
   },
   "outputs": [],
   "source": [
    "###Start code here\n",
    "X = \n",
    "Y =\n",
    "###End code(approx 2 lines)"
   ]
  },
  {
   "cell_type": "markdown",
   "metadata": {},
   "source": [
    "- Now the dataframe X has just the features that influence the target\n",
    "- print the correlation matrix for dataframe X. Use '.corr()' function to compute correlation matrix \n",
    "- from the correlation matrix note down the correlation value between 'CRIM' and 'PTRATIO' and assign it to variable 'corr_value'"
   ]
  },
  {
   "cell_type": "code",
   "execution_count": null,
   "metadata": {},
   "outputs": [],
   "source": [
    "###Start code here\n",
    "                   #print correlation matrix for X\n",
    "corr_value = "
   ]
  },
  {
   "cell_type": "markdown",
   "metadata": {},
   "source": [
    "- import stats model as sm\n",
    "- initalize the OLS model with target Y and dataframe X(features)\n",
    "- fit the model and print the summary"
   ]
  },
  {
   "cell_type": "code",
   "execution_count": null,
   "metadata": {},
   "outputs": [],
   "source": [
    "###Start code here\n",
    "\n",
    "\n",
    "###End code(approx 4 lines)"
   ]
  },
  {
   "cell_type": "markdown",
   "metadata": {},
   "source": [
    "- from the summary report note down R squared value and assign it to variable 'r_square'"
   ]
  },
  {
   "cell_type": "code",
   "execution_count": null,
   "metadata": {
    "collapsed": true
   },
   "outputs": [],
   "source": [
    "###Start code here\n",
    "r_squared = \n",
    "###End code(approx 1 line)\n",
    "with open(\"output.txt\", \"w\") as text_file:\n",
    "    text_file.write(\"corr= %f\\n\" % corr_value)\n",
    "    text_file.write(\"rsquared= %f\\n\" % r_squared)"
   ]
  }
 ],
 "metadata": {
  "kernelspec": {
   "display_name": "Python 3",
   "language": "python",
   "name": "python3"
  },
  "language_info": {
   "codemirror_mode": {
    "name": "ipython",
    "version": 3
   },
   "file_extension": ".py",
   "mimetype": "text/x-python",
   "name": "python",
   "nbconvert_exporter": "python",
   "pygments_lexer": "ipython3",
   "version": "3.6.4"
  }
 },
 "nbformat": 4,
 "nbformat_minor": 2
}
